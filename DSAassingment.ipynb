{
 "cells": [
  {
   "cell_type": "markdown",
   "id": "bb7b1cd0-1c3f-468b-b420-ee0a1d41f5f3",
   "metadata": {},
   "source": [
    "Q1. How do you comment code in Python? What are the different types of comments?"
   ]
  },
  {
   "cell_type": "markdown",
   "id": "a0ad2dd7-794e-4ce0-b2ed-c3b1641de529",
   "metadata": {},
   "source": [
    "there is a two type of methos for comment in python \n",
    "1. single line comment \n",
    "2. multiline comment\n",
    "\n",
    "for single line comment we used # keyword \n",
    "and multiline comment we used ' ' or  \" \" "
   ]
  },
  {
   "cell_type": "code",
   "execution_count": 3,
   "id": "4f18fbd7-73cf-4f75-84d7-0f0ac8cfbb6c",
   "metadata": {},
   "outputs": [],
   "source": [
    "# hello this is a sinle line comment "
   ]
  },
  {
   "cell_type": "code",
   "execution_count": null,
   "id": "eb8fb9a2-6fea-45d4-808f-89adab22174f",
   "metadata": {},
   "outputs": [],
   "source": [
    " \"\"\"\n",
    "This is a multiline comment.\n",
    "It can be used to explain code\n",
    "or to provide documentation.\n",
    "\"\"\"\n"
   ]
  },
  {
   "cell_type": "code",
   "execution_count": 13,
   "id": "20a5211a-bc37-4a59-9afd-328fb3ea5826",
   "metadata": {},
   "outputs": [
    {
     "name": "stdout",
     "output_type": "stream",
     "text": [
      "\n",
      "This is a           multiline comment.\n",
      "It can be used to explain code\n",
      "or to provide documentation.\n",
      "\n"
     ]
    }
   ],
   "source": [
    "#  multiline comment is also assing into variable \n",
    "v =  \"\"\"\n",
    "This is a           multiline comment.\n",
    "It can be used to explain code\n",
    "or to provide documentation.\n",
    "\"\"\"\n",
    "print(v)"
   ]
  },
  {
   "cell_type": "markdown",
   "id": "b8aec99c-8c46-473f-b8ef-272a0aa5f3fa",
   "metadata": {},
   "source": [
    "Q2. What are variables in Python? How do you declare and assign values to variables?\n"
   ]
  },
  {
   "cell_type": "markdown",
   "id": "321c1b37-81fd-4fae-a1cf-d760f984bf03",
   "metadata": {},
   "source": [
    "String,float,boolean, integer ...."
   ]
  },
  {
   "cell_type": "code",
   "execution_count": 16,
   "id": "bd8518d4-2178-4521-8f0a-333e779de171",
   "metadata": {},
   "outputs": [],
   "source": [
    "vishal = 123\n",
    "vishal1 = \"vishalname\"\n",
    "vishal2 = 12.3\n",
    "vishal = True\n",
    "# using abve code u can assing varible with its value\n",
    "# u can not declare variable without value in python "
   ]
  },
  {
   "cell_type": "markdown",
   "id": "f552ff7b-d83c-4a4e-8c75-73cf3ee4a29c",
   "metadata": {},
   "source": [
    "Q3. How do you convert one data type to another in Python?"
   ]
  },
  {
   "cell_type": "markdown",
   "id": "479c5b23-2b54-4250-9ece-c37c2bcd5b50",
   "metadata": {},
   "source": [
    "using predefine method in python we can converet one data type into other data type \n",
    "int()- is used for conver given data type into integer \n",
    "float()-convert into float number \n",
    "str()- used to convert in string \n",
    "bool()- used to convert in boolean value \n"
   ]
  },
  {
   "cell_type": "code",
   "execution_count": 20,
   "id": "f8655b0d-2abb-4d7e-99e3-15ee98cae5eb",
   "metadata": {},
   "outputs": [
    {
     "name": "stdout",
     "output_type": "stream",
     "text": [
      "<class 'str'>\n"
     ]
    }
   ],
   "source": [
    "name =\"123\"\n",
    "print(type(name))\n"
   ]
  },
  {
   "cell_type": "code",
   "execution_count": 23,
   "id": "8ab4b2c4-adbd-49ae-88bf-17e81d27d2f1",
   "metadata": {},
   "outputs": [
    {
     "name": "stdout",
     "output_type": "stream",
     "text": [
      "<class 'int'> 123\n"
     ]
    }
   ],
   "source": [
    "print(type(int(name)),name)"
   ]
  },
  {
   "cell_type": "code",
   "execution_count": 27,
   "id": "17bb7ebf-c7d1-4657-bfe0-28771a5688c7",
   "metadata": {},
   "outputs": [
    {
     "name": "stdout",
     "output_type": "stream",
     "text": [
      "<class 'int'>\n",
      "<class 'str'>\n"
     ]
    }
   ],
   "source": [
    "number = 123\n",
    "print(type(number))\n",
    "print(type(str(number)))"
   ]
  },
  {
   "cell_type": "code",
   "execution_count": 30,
   "id": "1f41a4a6-53e9-440b-8484-8b4c96c76238",
   "metadata": {},
   "outputs": [
    {
     "name": "stdout",
     "output_type": "stream",
     "text": [
      "<class 'bool'>\n",
      "<class 'int'>\n"
     ]
    }
   ],
   "source": [
    "boolean = True\n",
    "print(type(boolean))\n",
    "boolean1 = int(boolean)\n",
    "print(type(boolean1))"
   ]
  },
  {
   "cell_type": "markdown",
   "id": "07f9b45f-b1a4-4f4f-9401-3182458ad3c3",
   "metadata": {},
   "source": [
    "Q4. How do you write and execute a Python script from the command line?"
   ]
  },
  {
   "cell_type": "markdown",
   "id": "401e7c1a-647c-4923-b714-49173d03f4c9",
   "metadata": {},
   "source": [
    "1 create python file in your pc \n",
    "2 write code in your pc ...........\n",
    "3 open command prompt in your pc .........\n",
    "4 navigate directory .. where file is located ..........\n",
    "5  filename.py command run on your cmd ..........."
   ]
  },
  {
   "cell_type": "markdown",
   "id": "8e1d6dd5-d800-4c3c-b8f8-d6ddd1ef612c",
   "metadata": {},
   "source": [
    "."
   ]
  },
  {
   "cell_type": "markdown",
   "id": "327d18f0-dea8-48fc-82ac-6542e58a37af",
   "metadata": {},
   "source": [
    "Q5. Given a list my_list = [1, 2, 3, 4, 5], write the code to slice the list and obtain the sub-list [2, 3]."
   ]
  },
  {
   "cell_type": "code",
   "execution_count": 32,
   "id": "b099a804-f2fe-48f1-bdea-8d9c40bb5581",
   "metadata": {},
   "outputs": [
    {
     "name": "stdout",
     "output_type": "stream",
     "text": [
      "[2, 3]\n"
     ]
    }
   ],
   "source": [
    "my_list = [1, 2, 3, 4, 5]\n",
    "print(my_list[1:3])"
   ]
  },
  {
   "cell_type": "markdown",
   "id": "54e041db-0606-4103-bf1f-f57c0bfe8c16",
   "metadata": {},
   "source": [
    "Q6. What is a complex number in mathematics, and how is it represented in Python?"
   ]
  },
  {
   "cell_type": "markdown",
   "id": "d92bd49a-8bf2-4b9c-aaec-4ff6dda4775e",
   "metadata": {},
   "source": [
    "number = a + bi    this is a complex number and here a and b is a real part and i is imaginary part \n",
    "in python we can repreant this number using complex number \n"
   ]
  },
  {
   "cell_type": "code",
   "execution_count": 34,
   "id": "61aa1fcc-3d84-40a4-a3c0-33b575c5655b",
   "metadata": {},
   "outputs": [
    {
     "name": "stdout",
     "output_type": "stream",
     "text": [
      "(10+20j)\n"
     ]
    }
   ],
   "source": [
    "number = complex(10,20)\n",
    "print(number)\n"
   ]
  },
  {
   "cell_type": "markdown",
   "id": "0231583b-a55c-4df8-9243-4c106bf7e347",
   "metadata": {},
   "source": [
    "Q7. What is the correct way to declare a variable named age and assign the value 25 to it?\n"
   ]
  },
  {
   "cell_type": "code",
   "execution_count": 1,
   "id": "f6fc2710-72bd-4b61-9ce3-0085cc709d05",
   "metadata": {},
   "outputs": [
    {
     "name": "stdout",
     "output_type": "stream",
     "text": [
      "My age is 25\n"
     ]
    }
   ],
   "source": [
    "age = 25\n",
    "\n",
    "print(\"My age is\", age)"
   ]
  },
  {
   "cell_type": "markdown",
   "id": "90ab62d6-a591-4fdd-96f4-53da0e1c45f9",
   "metadata": {},
   "source": [
    "Q8. Declare a variable named price and assign the value 9.99 to it. What data type does this variable\n",
    "belong to?"
   ]
  },
  {
   "cell_type": "code",
   "execution_count": 3,
   "id": "62563ff6-9d8c-421b-8574-ce1bb4cd8f52",
   "metadata": {},
   "outputs": [
    {
     "name": "stdout",
     "output_type": "stream",
     "text": [
      "<class 'float'>\n"
     ]
    }
   ],
   "source": [
    "price = 9.99\n",
    "# data type is float \n",
    "print(type(price))"
   ]
  },
  {
   "cell_type": "markdown",
   "id": "4a6784a3-dd4f-491e-a676-66207f985c7e",
   "metadata": {},
   "source": [
    "Q9. Create a variable named name and assign your full name to it as a string. How would you print the\n",
    "value of this variable?"
   ]
  },
  {
   "cell_type": "code",
   "execution_count": 5,
   "id": "22b63d06-ddb8-42ee-97f7-d27353d31f00",
   "metadata": {},
   "outputs": [
    {
     "name": "stdout",
     "output_type": "stream",
     "text": [
      "baraiya vishalbhai kanajibhai\n"
     ]
    }
   ],
   "source": [
    "name = \"baraiya vishalbhai kanajibhai\"\n",
    "print(name)"
   ]
  },
  {
   "cell_type": "markdown",
   "id": "8fc95695-7afb-42c0-9b1a-7f6b03240f04",
   "metadata": {},
   "source": [
    "Q10. Given the string \"Hello, World!\", extract the substring \"World\"."
   ]
  },
  {
   "cell_type": "code",
   "execution_count": 7,
   "id": "cddf0197-c22c-4e73-92f7-73c12f47422a",
   "metadata": {},
   "outputs": [
    {
     "name": "stdout",
     "output_type": "stream",
     "text": [
      "World\n"
     ]
    }
   ],
   "source": [
    "string1 = 'Hello, World!'\n",
    "print(string1[7:len(string1)-1])"
   ]
  }
 ],
 "metadata": {
  "kernelspec": {
   "display_name": "Python 3 (ipykernel)",
   "language": "python",
   "name": "python3"
  },
  "language_info": {
   "codemirror_mode": {
    "name": "ipython",
    "version": 3
   },
   "file_extension": ".py",
   "mimetype": "text/x-python",
   "name": "python",
   "nbconvert_exporter": "python",
   "pygments_lexer": "ipython3",
   "version": "3.10.8"
  }
 },
 "nbformat": 4,
 "nbformat_minor": 5
}
