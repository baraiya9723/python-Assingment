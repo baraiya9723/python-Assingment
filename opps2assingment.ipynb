{
 "cells": [
  {
   "cell_type": "markdown",
   "id": "5128ee35-4278-46c9-9904-3f5fb54c6da2",
   "metadata": {},
   "source": [
    "Q1. What is Abstraction in OOps? Explain with an example."
   ]
  },
  {
   "cell_type": "markdown",
   "id": "dd7fdf58-73e9-453f-a5f7-85777a735235",
   "metadata": {},
   "source": [
    "abstraction is one of the pillar in opps , it is the process of the hiding implimentaion details from the user ...\n",
    "this is focus on the essential behavior of the object , without focus on how its implimented   "
   ]
  },
  {
   "cell_type": "markdown",
   "id": "dba9a5ef-d247-4e2b-a593-980770df79f0",
   "metadata": {},
   "source": [
    "process of the abstartion is used to hide the details of the implementation of a method from the user.\n",
    "for example claculator have add() method ,the user of the claculator object does not need to to know how add() method implimented . they simple need to know that they can pass the two value of the add .. and method will return sum of that two value "
   ]
  },
  {
   "cell_type": "code",
   "execution_count": 1,
   "id": "3e2f7050-5123-41a6-979b-77208afff8b2",
   "metadata": {},
   "outputs": [],
   "source": [
    "from abc import ABC, abstractmethod\n",
    "\n",
    "class Car(ABC):\n",
    "\n",
    "    @abstractmethod\n",
    "    def get_make(self):\n",
    "        pass\n",
    "\n",
    "    @abstractmethod\n",
    "    def get_model(self):\n",
    "        pass\n",
    "\n",
    "    @abstractmethod\n",
    "    def get_year(self):\n",
    "        pass\n",
    "\n",
    "\n"
   ]
  },
  {
   "cell_type": "markdown",
   "id": "908e9666-8ee7-46c7-9499-3593b98a5d77",
   "metadata": {},
   "source": [
    "Abstract classes are classes that cannot be instantiated. They are used to define the interface for a class, and they can be inherited by other classes.\n",
    "Abstract classes are classes that cannot be instantiated. They are used to define the interface for a class, and they can be inherited by other classes.\n",
    "Any class that inherits from the Car class would need to implement the get_make(), get_model(), and get_year() methods"
   ]
  },
  {
   "cell_type": "markdown",
   "id": "f022a9eb-a2f8-4f4f-a9a8-9f19139f8797",
   "metadata": {},
   "source": [
    "Q2. Differentiate between Abstraction and Encapsulation. Explain with an example."
   ]
  },
  {
   "cell_type": "markdown",
   "id": "e2a735e9-74f5-4168-b3f6-a49878ed3d2d",
   "metadata": {},
   "source": [
    "Abstraction and encapsulation are two different concepts, but they are often used together in OOP. Abstraction hides the implementation details of an object or method, while encapsulation groups together data and methods into a single unit."
   ]
  },
  {
   "cell_type": "markdown",
   "id": "2f3876a0-0607-45b4-b4ea-e7a03889c9a8",
   "metadata": {},
   "source": [
    " abstraction allows you to focus on the essential behavior of the object. Encapsulation allows you to protect the data from unauthorized access, and it also makes the code more modular and reusable."
   ]
  },
  {
   "cell_type": "markdown",
   "id": "16d9ce6c-6008-4a76-a63a-5e0adb0a3940",
   "metadata": {},
   "source": [
    "Here is an analogy that might help you understand the difference between abstraction and encapsulation. Imagine that you are driving a car. You do not need to know how the car works in order to drive it. You just need to know how to use the controls (e.g. the steering wheel, the accelerator, and the brake pedal). This is an example of abstraction. The implementation details of the car (e.g. the engine, the transmission, and the brakes) are hidden from you.\n",
    "\n",
    "Now, imagine that you are the owner of the car. You need to make sure that the car is properly maintained. You need to know what parts need to be replaced, and how often they need to be replaced. This is an example of encapsulation. The data members (e.g. the make, the model, and the year) are hidden from you, but you have access to the methods that allow you to maintain the car."
   ]
  },
  {
   "cell_type": "markdown",
   "id": "4b6d33e4-2a20-4599-82f5-2f6596227347",
   "metadata": {},
   "source": [
    "Q3. What is abc module in python? Why is it used?"
   ]
  },
  {
   "cell_type": "markdown",
   "id": "40d1ba5e-9b25-46c4-a7d1-269e94571aa7",
   "metadata": {},
   "source": [
    "the abc module in python provied the infrastructure for defining abstract base class \n",
    "its provied two main frature \n",
    "1 the ABCMeta metaclass which is used to create abstract base classes\n",
    "2 the abstractmethod decorator , which is used to mark method as abstract \n"
   ]
  },
  {
   "cell_type": "code",
   "execution_count": 2,
   "id": "c73f58db-8662-4e11-8bad-e577e15031a2",
   "metadata": {},
   "outputs": [],
   "source": [
    "from abc import ABC, abstractmethod\n",
    "\n",
    "class Shape(ABC):\n",
    "\n",
    "    @abstractmethod\n",
    "    def get_area(self):\n",
    "        pass\n"
   ]
  },
  {
   "cell_type": "code",
   "execution_count": 3,
   "id": "9776d81a-7614-436a-94c6-fece9702b7ef",
   "metadata": {},
   "outputs": [],
   "source": [
    "from abc import ABC, abstractmethod\n",
    "\n",
    "class Shape(ABC):\n",
    "\n",
    "    @abstractmethod\n",
    "    def get_area(self):\n",
    "        pass\n",
    "\n",
    "class Circle(Shape):\n",
    "\n",
    "    def __init__(self, radius):\n",
    "        self.radius = radius\n",
    "\n",
    "    def get_area(self):\n",
    "        return 3.14 * self.radius ** 2\n"
   ]
  },
  {
   "cell_type": "markdown",
   "id": "9ed91436-d064-4008-bde5-c43f5cc3cc0d",
   "metadata": {},
   "source": [
    "Q4. How can we achieve data abstraction?"
   ]
  },
  {
   "cell_type": "markdown",
   "id": "52f5ecae-79b3-4632-a9b4-922a68077249",
   "metadata": {},
   "source": [
    "data abstraction is the process of the hiding the implimentaion details of the data from the user \n",
    "this allows the user to focus on the essential behavior of the data , without knowing how it is implimented\n",
    "in pyhton we have abc module .\n",
    "     abc module can be used to create a abstract class \n",
    "     "
   ]
  },
  {
   "cell_type": "code",
   "execution_count": 5,
   "id": "d5449635-2cfc-4a35-b9c0-863b12a57526",
   "metadata": {},
   "outputs": [],
   "source": [
    "from abc import ABC,abstractmethod\n",
    "class shape(ABC):\n",
    "    @abstractmethod\n",
    "    def getarea(self):\n",
    "        pass"
   ]
  },
  {
   "cell_type": "markdown",
   "id": "6e6f26f1-0146-4a92-84c1-1016beb714c1",
   "metadata": {},
   "source": [
    "Q5. Can we create an instance of an abstract class? Explain your answer.c"
   ]
  },
  {
   "cell_type": "markdown",
   "id": "10d679eb-855b-4b29-aaf0-d287fe6cd08e",
   "metadata": {},
   "source": [
    "\n",
    "\n",
    "No, you cannot create an instance of an abstract class in Python. Abstract classes are used to define the interface for a class, and they cannot be instantiated. This is because abstract classes are incomplete. They do not have any implementation details, and they rely on subclasses to provide the implementation."
   ]
  },
  {
   "cell_type": "code",
   "execution_count": 7,
   "id": "b95e1975-b916-4e47-943e-3d9d212684b0",
   "metadata": {},
   "outputs": [
    {
     "ename": "TypeError",
     "evalue": "Can't instantiate abstract class Shape with abstract method get_area",
     "output_type": "error",
     "traceback": [
      "\u001b[0;31m---------------------------------------------------------------------------\u001b[0m",
      "\u001b[0;31mTypeError\u001b[0m                                 Traceback (most recent call last)",
      "Cell \u001b[0;32mIn[7], line 9\u001b[0m\n\u001b[1;32m      5\u001b[0m     \u001b[38;5;129m@abstractmethod\u001b[39m\n\u001b[1;32m      6\u001b[0m     \u001b[38;5;28;01mdef\u001b[39;00m \u001b[38;5;21mget_area\u001b[39m(\u001b[38;5;28mself\u001b[39m):\n\u001b[1;32m      7\u001b[0m         \u001b[38;5;28;01mpass\u001b[39;00m\n\u001b[0;32m----> 9\u001b[0m shape \u001b[38;5;241m=\u001b[39m \u001b[43mShape\u001b[49m\u001b[43m(\u001b[49m\u001b[43m)\u001b[49m\n",
      "\u001b[0;31mTypeError\u001b[0m: Can't instantiate abstract class Shape with abstract method get_area"
     ]
    }
   ],
   "source": [
    "from abc import ABC, abstractmethod\n",
    "\n",
    "class Shape(ABC):\n",
    "\n",
    "    @abstractmethod\n",
    "    def get_area(self):\n",
    "        pass\n",
    "\n",
    "shape = Shape()\n"
   ]
  },
  {
   "cell_type": "code",
   "execution_count": null,
   "id": "ab940a4e-5453-4b86-8e09-d8df17c614e6",
   "metadata": {},
   "outputs": [],
   "source": []
  }
 ],
 "metadata": {
  "kernelspec": {
   "display_name": "Python 3 (ipykernel)",
   "language": "python",
   "name": "python3"
  },
  "language_info": {
   "codemirror_mode": {
    "name": "ipython",
    "version": 3
   },
   "file_extension": ".py",
   "mimetype": "text/x-python",
   "name": "python",
   "nbconvert_exporter": "python",
   "pygments_lexer": "ipython3",
   "version": "3.10.8"
  }
 },
 "nbformat": 4,
 "nbformat_minor": 5
}
