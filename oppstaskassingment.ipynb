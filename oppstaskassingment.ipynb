{
 "cells": [
  {
   "cell_type": "markdown",
   "id": "0864a8d7-d464-4d0d-9c92-90544e53caa5",
   "metadata": {},
   "source": [
    "Q1, Create a vehicle class with an init method having instance variables as name_of_vehicle, max_speed\n",
    "and average_of_vehicle.\n"
   ]
  },
  {
   "cell_type": "code",
   "execution_count": 11,
   "id": "cc272e73-88c8-41ce-a618-8083dae822ca",
   "metadata": {},
   "outputs": [
    {
     "data": {
      "text/plain": [
       "'xyz'"
      ]
     },
     "execution_count": 11,
     "metadata": {},
     "output_type": "execute_result"
    }
   ],
   "source": [
    "class vehicle :\n",
    "    def __init__(self,name_of_vehicle,max_speed,average_of_vehicle):\n",
    "        self.name_of_vehicle = name_of_vehicle\n",
    "        self.max_speed = max_speed\n",
    "        self.average_of_vehicle = average_of_vehicle\n",
    "        \n",
    "obj = vehicle(\"xyz\",12,70)\n",
    "obj.name_of_vehicle"
   ]
  },
  {
   "cell_type": "markdown",
   "id": "ab023154-6709-43b1-981c-9b88336a9ea6",
   "metadata": {},
   "source": [
    "Q2. Create a child class car from the vehicle class created in Que 1, which will inherit the vehicle class.\n",
    "Create a method named seating_capacity which takes capacity as an argument and returns the name of\n",
    "the vehicle and its seating capacity."
   ]
  },
  {
   "cell_type": "code",
   "execution_count": 22,
   "id": "6b8a8a5f-1aec-41ce-8f47-e8b6b5158ccd",
   "metadata": {},
   "outputs": [
    {
     "data": {
      "text/plain": [
       "('Car', 30)"
      ]
     },
     "execution_count": 22,
     "metadata": {},
     "output_type": "execute_result"
    }
   ],
   "source": [
    "class car(vehicle):\n",
    "    def __init__(self,capacity):\n",
    "        super().__init__(\"Car\", 200, 60)\n",
    "        self.capacity = capacity\n",
    "        \n",
    "    def seating_capacity(self):\n",
    "        return self.name_of_vehicle,self.capacity\n",
    " \n",
    "\n",
    "onj1 = car(30)\n",
    "onj1.seating_capacity()"
   ]
  },
  {
   "cell_type": "markdown",
   "id": "7de9cdc6-668a-416f-88ca-85d7ab7bc3c0",
   "metadata": {},
   "source": [
    "Q3. What is multiple inheritance? Write a python code to demonstrate multiple inheritance."
   ]
  },
  {
   "cell_type": "code",
   "execution_count": 27,
   "id": "18190fb0-792a-431b-aa10-89842d9dab5e",
   "metadata": {},
   "outputs": [
    {
     "data": {
      "text/plain": [
       "'vishal'"
      ]
     },
     "execution_count": 27,
     "metadata": {},
     "output_type": "execute_result"
    }
   ],
   "source": [
    "# this is the exaple of the multilable inheritance pls ignore this \n",
    "class A:\n",
    "    def __init__(self,name):\n",
    "        self.name = name\n",
    "        \n",
    "class B(A):\n",
    "    def __init__(self,rank):\n",
    "        super(). __init__(\"vishal\")\n",
    "        self.rank= rank\n",
    "   \n",
    "class C(B):\n",
    "    def __init__(self,collegename):\n",
    "        super().__init__(1)\n",
    "        self.collegename = collegename\n",
    "obj2 = C(\"ld college of enginnering \")\n",
    "        \n",
    "obj2.name\n",
    "\n",
    "   "
   ]
  },
  {
   "cell_type": "code",
   "execution_count": 40,
   "id": "7f4c278b-3f1d-4271-82ca-413354ac37b3",
   "metadata": {},
   "outputs": [
    {
     "name": "stdout",
     "output_type": "stream",
     "text": [
      "mother \n",
      "father\n",
      "hello this is a child \n"
     ]
    }
   ],
   "source": [
    "# this is a exaple of numtiple inharitance \n",
    "class mother:\n",
    "    def heym(self):\n",
    "        print(\"mother \")\n",
    "class father:\n",
    "    def heyf(self):\n",
    "        print(\"father\")\n",
    "class child(mother,father):\n",
    "    def heyc(self):\n",
    "        print(\"hello this is a child \")\n",
    "     \n",
    "obj = child()\n",
    "obj.heym()\n",
    "obj.heyf()\n",
    "obj.heyc()"
   ]
  },
  {
   "cell_type": "code",
   "execution_count": 44,
   "id": "c216b7df-208b-4efa-a64f-371c084248da",
   "metadata": {},
   "outputs": [
    {
     "name": "stdout",
     "output_type": "stream",
     "text": [
      "hello this is a vishal baraiya\n",
      "hello this is a child \n"
     ]
    }
   ],
   "source": [
    "# if you can clearly see then we are not able to call mother construction , just called child construction \n",
    "class mother:\n",
    "    def __init__(self):\n",
    "        print(\"hello this is a mother\")\n",
    "    def heym(self):\n",
    "        print(\"mother \")\n",
    "# class father:\n",
    "#     def heyf(self):\n",
    "#         print(\"father\")\n",
    "class child(mother,father):\n",
    "    def __init__(self):\n",
    "        print(\"hello this is a vishal baraiya\")\n",
    "    def heyc(self):\n",
    "        print(\"hello this is a child \")\n",
    "     \n",
    "obj = child()\n",
    "obj.heyc()  \n"
   ]
  },
  {
   "cell_type": "code",
   "execution_count": 48,
   "id": "70e9c1a8-df52-443d-8ca8-58fb576eb232",
   "metadata": {},
   "outputs": [
    {
     "name": "stdout",
     "output_type": "stream",
     "text": [
      "hello this is a mother\n",
      "hey this is a child\n"
     ]
    }
   ],
   "source": [
    "# for that we can use super() method \n",
    "class mother:\n",
    "    def __init__(self):\n",
    "        print(\"hello this is a mother\")\n",
    "    def heym(self):\n",
    "        print(\"mother \")\n",
    "class child(mother,father):\n",
    "    def __init__(self):\n",
    "        super().__init__()\n",
    "        print(\"hey this is a child\")\n",
    "        \n",
    "    def heyc(self):\n",
    "        print(\"hello this is a child \")\n",
    "     \n",
    "obj = child()"
   ]
  },
  {
   "cell_type": "code",
   "execution_count": 50,
   "id": "64d249a0-7c2d-4c3a-beb7-d1f2014e4e78",
   "metadata": {},
   "outputs": [
    {
     "name": "stdout",
     "output_type": "stream",
     "text": [
      "hello this is a mother\n",
      "hey this is a child\n"
     ]
    }
   ],
   "source": [
    "#  but there is a again issue what if we have two parent ??\n",
    "class mother:\n",
    "    def __init__(self):\n",
    "        print(\"hello this is a mother\")\n",
    "    def heym(self):\n",
    "        print(\"mother \")\n",
    "class father:\n",
    "    def __init__(self):\n",
    "        print(\"hello guys fahter is here\")\n",
    "class child(mother,father):\n",
    "    def __init__(self):\n",
    "        super().__init__()\n",
    "        print(\"hey this is a child\")\n",
    "        \n",
    "    def heyc(self):\n",
    "        print(\"hello this is a child \")\n",
    "     \n",
    "obj = child()\n",
    "# now you can clearly see that father is constructor is not called "
   ]
  },
  {
   "cell_type": "code",
   "execution_count": 53,
   "id": "6b1bc5dc-c9ee-4d56-8d2f-c808abeabb30",
   "metadata": {},
   "outputs": [
    {
     "name": "stdout",
     "output_type": "stream",
     "text": [
      "hello this is a mother\n",
      "hello guys fahter is here\n",
      "hey this is a child\n"
     ]
    }
   ],
   "source": [
    "class mother:\n",
    "    def __init__(self):\n",
    "        print(\"hello this is a mother\")\n",
    "        super().__init__()\n",
    "    def heym(self):\n",
    "        print(\"mother \")\n",
    "class father:\n",
    "    def __init__(self):\n",
    "        super().__init__()\n",
    "        print(\"hello guys fahter is here\")\n",
    "class child(mother,father):\n",
    "    def __init__(self):\n",
    "        super().__init__()\n",
    "        print(\"hey this is a child\")\n",
    "        \n",
    "    def heyc(self):\n",
    "        print(\"hello this is a child \")\n",
    "     \n",
    "obj = child()"
   ]
  },
  {
   "cell_type": "code",
   "execution_count": 63,
   "id": "4923a4f1-eaf5-42ec-aca7-28dd6f71caef",
   "metadata": {},
   "outputs": [
    {
     "name": "stdout",
     "output_type": "stream",
     "text": [
      "hello this is a mother\n",
      "hello guys fahter is here\n",
      "hey this is a child\n"
     ]
    }
   ],
   "source": [
    "# and also you can jsut use below simple method by using class name of this parent \n",
    "class mother:\n",
    "    def __init__(self):\n",
    "        print(\"hello this is a mother\")\n",
    "    def heym(self):\n",
    "        print(\"mother \")\n",
    "class father:\n",
    "    def __init__(self):\n",
    "        print(\"hello guys fahter is here\")\n",
    "class child(mother,father):\n",
    "    def __init__(self):\n",
    "        mother.__init__(self)\n",
    "        father.__init__(self)\n",
    "        print(\"hey this is a child\")\n",
    "        \n",
    "    def heyc(self):\n",
    "        print(\"hello this is a child \")\n",
    "     \n",
    "obj = child()"
   ]
  },
  {
   "cell_type": "code",
   "execution_count": 58,
   "id": "7371df0a-804a-4b6e-bf5d-6d19f65266c4",
   "metadata": {},
   "outputs": [
    {
     "name": "stdout",
     "output_type": "stream",
     "text": [
      "hello  nayana\n"
     ]
    }
   ],
   "source": [
    "# you can also pass the data in parent class \n",
    "class mother:\n",
    "    def __init__(self,mothername):\n",
    "        self.mothername = mothername\n",
    "        \n",
    "    def getmname(self):\n",
    "        print(\"hello \",self.mothername)\n",
    "        \n",
    "class child(mother):\n",
    "    def __init__(self,mothername):\n",
    "        super().__init__(mothername)\n",
    "\n",
    "obj = child(\"nayana\")\n",
    "obj.getmname()\n",
    "    "
   ]
  },
  {
   "cell_type": "code",
   "execution_count": 66,
   "id": "2d0947dc-7376-4dc3-a985-f5d6414655e9",
   "metadata": {},
   "outputs": [
    {
     "name": "stdout",
     "output_type": "stream",
     "text": [
      "hello good morning mary\n",
      "helllo good morning  kahana\n"
     ]
    }
   ],
   "source": [
    "#  PASS DATA MORE THEN ONE PARENT CLASS \n",
    "class mother:\n",
    "    def __init__(self,mothername):\n",
    "        self.mothername = mothername\n",
    "    def getmothername(self):\n",
    "        print(\"hello good morning\",self.mothername)\n",
    "class father:\n",
    "    def __init__(self,fathername):\n",
    "        self.fathername = fathername\n",
    "    def getfathername(self):\n",
    "        print(\"helllo good morning \",self.fathername)\n",
    "class son(mother,father):\n",
    "    def __init__(self,mothername,fathername):\n",
    "        mother.__init__(self,mothername)\n",
    "        father.__init__(self,fathername)\n",
    "obj = son(\"mary\",\"kahana\") \n",
    "obj.getmothername()\n",
    "obj.getfathername()"
   ]
  },
  {
   "cell_type": "markdown",
   "id": "f22ed6df-6a85-41f7-92ba-4ee48ce1f89d",
   "metadata": {},
   "source": [
    "Q4. What are getter and setter in python? Create a class and create a getter and a setter method in this\n",
    "class."
   ]
  },
  {
   "cell_type": "markdown",
   "id": "2a082f6b-dd10-4868-828e-c00e9d090602",
   "metadata": {},
   "source": [
    "getter and setter are method those are used to provied permission for access and modify variable value in our class , its also called accessor control , using this we can achive encapsulate "
   ]
  },
  {
   "cell_type": "markdown",
   "id": "65621868-4a19-46c5-b265-57dfd5e7e7a3",
   "metadata": {},
   "source": [
    "some time we dont want to give permition to access our data at that time we can make this variable private ... so user are not able to access this variable value for that time we can use getter method to give access of that variable "
   ]
  },
  {
   "cell_type": "code",
   "execution_count": 71,
   "id": "dc2f4715-4773-46db-9ad2-8c6a0b00abb2",
   "metadata": {},
   "outputs": [
    {
     "name": "stdout",
     "output_type": "stream",
     "text": [
      "12\n",
      "13\n"
     ]
    }
   ],
   "source": [
    "class vishal:\n",
    "    def __init__(self,a,b):\n",
    "        self.a=a\n",
    "        self.b=b\n",
    "# you are able to access value of a and b \n",
    "obj = vishal(12,13)\n",
    "print(obj.a)\n",
    "print(obj.b)\n"
   ]
  },
  {
   "cell_type": "code",
   "execution_count": 75,
   "id": "951497ae-e6d2-45dc-b869-d76484516f4a",
   "metadata": {},
   "outputs": [
    {
     "ename": "AttributeError",
     "evalue": "'vishal' object has no attribute 'a'",
     "output_type": "error",
     "traceback": [
      "\u001b[0;31m---------------------------------------------------------------------------\u001b[0m",
      "\u001b[0;31mAttributeError\u001b[0m                            Traceback (most recent call last)",
      "Cell \u001b[0;32mIn[75], line 7\u001b[0m\n\u001b[1;32m      5\u001b[0m         \u001b[38;5;28mself\u001b[39m\u001b[38;5;241m.\u001b[39m__b \u001b[38;5;241m=\u001b[39m b\n\u001b[1;32m      6\u001b[0m obj \u001b[38;5;241m=\u001b[39m vishal(\u001b[38;5;124m\"\u001b[39m\u001b[38;5;124mvi\u001b[39m\u001b[38;5;124m\"\u001b[39m,\u001b[38;5;124m\"\u001b[39m\u001b[38;5;124mbi\u001b[39m\u001b[38;5;124m\"\u001b[39m)\n\u001b[0;32m----> 7\u001b[0m \u001b[38;5;28mprint\u001b[39m(\u001b[43mobj\u001b[49m\u001b[38;5;241;43m.\u001b[39;49m\u001b[43ma\u001b[49m)\n",
      "\u001b[0;31mAttributeError\u001b[0m: 'vishal' object has no attribute 'a'"
     ]
    }
   ],
   "source": [
    "# but if you make this variable as  private then you are not able to get this value \n",
    "class vishal:\n",
    "    def __init__(self,a,b):\n",
    "        self.__a = a\n",
    "        self.__b = b\n",
    "obj = vishal(\"vi\",\"bi\")\n",
    "print(obj.a)"
   ]
  },
  {
   "cell_type": "code",
   "execution_count": 81,
   "id": "36aeb222-0caf-40ce-87be-5cfb8d8bd63e",
   "metadata": {},
   "outputs": [
    {
     "name": "stdout",
     "output_type": "stream",
     "text": [
      "1\n"
     ]
    },
    {
     "data": {
      "text/plain": [
       "4"
      ]
     },
     "execution_count": 81,
     "metadata": {},
     "output_type": "execute_result"
    }
   ],
   "source": [
    "#  for that we can used getter and setter method to manage control of the our program \n",
    "class vishal :\n",
    "    def __init__(self,a,b,c):\n",
    "        self.__a=a\n",
    "        self.__b=b\n",
    "        self.__c=c\n",
    "    def geta(self):\n",
    "        return self.__a\n",
    "    def seta(self,a):\n",
    "        self.__a=a\n",
    "obj = vishal(1,2,3)\n",
    "print(obj.geta())\n",
    "obj.seta(4)\n",
    "obj.geta()"
   ]
  },
  {
   "cell_type": "markdown",
   "id": "eeca0f18-f159-4ed4-bd49-90c0414565b4",
   "metadata": {},
   "source": [
    "Q5.What is method overriding in python? Write a python code to demonstrate method overriding.\n"
   ]
  },
  {
   "cell_type": "markdown",
   "id": "7676751a-78b9-4767-a955-97361b3dc624",
   "metadata": {},
   "source": [
    "method overriding is a concept of the opp that is allowed to ctrate method in child class that is already preasent in parent class "
   ]
  },
  {
   "cell_type": "code",
   "execution_count": 1,
   "id": "665da315-39bd-41cf-af78-f241154cb4b6",
   "metadata": {},
   "outputs": [
    {
     "name": "stdout",
     "output_type": "stream",
     "text": [
      "200\n"
     ]
    }
   ],
   "source": [
    "class parent:\n",
    "    def ans(self,a,b):\n",
    "        print(a+b)\n",
    "class child(parent):\n",
    "    def ans(self,a,b):\n",
    "        print( a*b)\n",
    "obj = child()\n",
    "obj.ans(10,20)"
   ]
  },
  {
   "cell_type": "code",
   "execution_count": 3,
   "id": "9f07439c-bcd2-4995-8510-f424a837aff5",
   "metadata": {},
   "outputs": [
    {
     "name": "stdout",
     "output_type": "stream",
     "text": [
      "30\n"
     ]
    }
   ],
   "source": [
    "#  but if i want to get ans in sum \n",
    "# just create obj of parent class \n",
    "obj1 = parent()\n",
    "obj1.ans(10,20)"
   ]
  },
  {
   "cell_type": "code",
   "execution_count": 8,
   "id": "9ca0dadc-4a1f-4cd1-8ab4-209430101877",
   "metadata": {},
   "outputs": [
    {
     "name": "stdout",
     "output_type": "stream",
     "text": [
      "50\n",
      "400\n"
     ]
    }
   ],
   "source": [
    "#  and what if i want both ans in child class when i try to call child method \n",
    "class parent :\n",
    "    def ans(self,a,b):\n",
    "        print(a+b)\n",
    "class child(parent):\n",
    "    def ans(self,a,b):\n",
    "        super().ans(a,b)\n",
    "        print(a*b)\n",
    "obj = child()\n",
    "obj.ans(10,40)"
   ]
  }
 ],
 "metadata": {
  "kernelspec": {
   "display_name": "Python 3 (ipykernel)",
   "language": "python",
   "name": "python3"
  },
  "language_info": {
   "codemirror_mode": {
    "name": "ipython",
    "version": 3
   },
   "file_extension": ".py",
   "mimetype": "text/x-python",
   "name": "python",
   "nbconvert_exporter": "python",
   "pygments_lexer": "ipython3",
   "version": "3.10.8"
  }
 },
 "nbformat": 4,
 "nbformat_minor": 5
}
