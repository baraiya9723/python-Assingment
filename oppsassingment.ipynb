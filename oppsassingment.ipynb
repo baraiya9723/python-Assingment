{
 "cells": [
  {
   "cell_type": "markdown",
   "id": "cc0a2829-b010-4d13-9eea-28b09b2677c4",
   "metadata": {},
   "source": [
    "Q1. Explain Class and Object with respect to Object-Oriented Programming. Give a suitable example."
   ]
  },
  {
   "cell_type": "markdown",
   "id": "66ee0c2a-0930-4a31-88e5-05b650343730",
   "metadata": {},
   "source": [
    "class is a blueprint of a object , and object is a instance of class \n",
    "for example we have one class for student .. and for perticular student we have diff type of a value ..."
   ]
  },
  {
   "cell_type": "code",
   "execution_count": 1,
   "id": "bba3e613-07d8-44b0-8370-f68580899d39",
   "metadata": {},
   "outputs": [
    {
     "name": "stdout",
     "output_type": "stream",
     "text": [
      "vishal baraiya hello\n",
      "payal ramna hello\n"
     ]
    }
   ],
   "source": [
    "class student:\n",
    "    def __init__(self,firstname,lastname):\n",
    "        self.firstname = firstname \n",
    "        self.lastname = lastname\n",
    "    def fullname(self):\n",
    "        print(self.firstname,self.lastname,\"hello\")\n",
    "student1 = student(\"vishal\",\"baraiya\") \n",
    "student2 = student(\"payal\",\"ramna\")\n",
    "student1.fullname()\n",
    "student2.fullname()"
   ]
  },
  {
   "cell_type": "markdown",
   "id": "1ad071ef-3f96-45ce-b4d1-3093907321ae",
   "metadata": {},
   "source": [
    "in this given example student is class \n",
    "and student1 and student2 is a object of the student class "
   ]
  },
  {
   "cell_type": "markdown",
   "id": "b71c979a-e4f7-42a2-ae3f-38fbefb760fb",
   "metadata": {},
   "source": [
    "Q2. Name the four pillars of OOPs."
   ]
  },
  {
   "cell_type": "markdown",
   "id": "52ca8452-9185-4817-b6f4-ba07134c273c",
   "metadata": {},
   "source": [
    "1 inheritance \n",
    "2 polymorphism \n",
    "3 abstracion \n",
    "4 encapsulation "
   ]
  },
  {
   "cell_type": "markdown",
   "id": "5408fd28-9476-4460-a6bd-d5aa1311759a",
   "metadata": {},
   "source": [
    "Q3. Explain why the __init__() function is used. Give a suitable example."
   ]
  },
  {
   "cell_type": "markdown",
   "id": "a74e9fda-aae1-46a4-b149-edefe3bc2c3e",
   "metadata": {},
   "source": [
    "this is a special function in python , its work as a construction for python class \n",
    "it is called automatically when an object is created \n",
    "and also its used to set intial value of the object atribute "
   ]
  },
  {
   "cell_type": "code",
   "execution_count": 6,
   "id": "851107c9-12d9-4447-bfd1-761205659a09",
   "metadata": {},
   "outputs": [
    {
     "name": "stdout",
     "output_type": "stream",
     "text": [
      "hello good morning  vishal you are  21 old\n"
     ]
    }
   ],
   "source": [
    "class vishal :\n",
    "    def __init__(self,name,age):\n",
    "        self.name = name\n",
    "        self.age = age \n",
    "    def fullname(self):\n",
    "        print(\"hello good morning \",self.name,\"you are \",self.age,\"old\")\n",
    "obj = vishal(\"vishal\",21) \n",
    "obj.fullname()\n",
    "#  init is set intainal value of name and age for objj object "
   ]
  },
  {
   "cell_type": "markdown",
   "id": "b81d16f0-10a3-4841-af16-f9ac7729bccd",
   "metadata": {},
   "source": [
    "Q4. Why self is used in OOPs?"
   ]
  },
  {
   "cell_type": "markdown",
   "id": "4b4f1b47-31c8-443c-afbd-b735e500cffe",
   "metadata": {},
   "source": [
    "the self keyword is used in opps to refer to the currect instance of the class,\n",
    "it is used to access attribute and method of the class from within the class method "
   ]
  },
  {
   "cell_type": "code",
   "execution_count": 8,
   "id": "db8c4d03-e87d-4589-a6d0-fe7c2e68a0e1",
   "metadata": {},
   "outputs": [],
   "source": [
    "class vishal :\n",
    "    def name(self):\n",
    "        print(\"hy vishal \")\n",
    "# the name() method taken one argument self , \n",
    "# the self argument refers to the current instance of the attribute and method of the current class vishal "
   ]
  },
  {
   "cell_type": "markdown",
   "id": "00b1f97c-bded-49eb-a5ac-7fde893698bd",
   "metadata": {},
   "source": [
    "Q5. What is inheritance? Give an example for each type of inheritance."
   ]
  },
  {
   "cell_type": "markdown",
   "id": "04505a3f-5beb-416c-9272-ac05ffda4901",
   "metadata": {},
   "source": [
    "inheritance is the opps concept , its allows one class to access its all property and method  to other class \n",
    "this is used for code reusability in program .. its save time and effort for devloping new class \n"
   ]
  },
  {
   "cell_type": "markdown",
   "id": "6e0ebd71-1d81-49d8-bd94-ff2ef279ad0d",
   "metadata": {},
   "source": [
    "1 single inheritance \n",
    "child class inherits from a single base class \n"
   ]
  },
  {
   "cell_type": "code",
   "execution_count": 6,
   "id": "123bc9ad-f8a4-4d32-b9f8-4b1f9aa283cd",
   "metadata": {},
   "outputs": [
    {
     "name": "stdout",
     "output_type": "stream",
     "text": [
      "hy vishal\n",
      "hey good morning\n"
     ]
    }
   ],
   "source": [
    "class vishal:\n",
    "    def method1(self):\n",
    "        print(\"hy vishal\")\n",
    "class vishal1(vishal):\n",
    "    def method2(self):\n",
    "        print(\"hey good morning\")\n",
    "obj = vishal1()\n",
    "obj.method1()\n",
    "obj.method2()"
   ]
  },
  {
   "cell_type": "markdown",
   "id": "4462b96c-2b67-4d7e-b58a-ea9e732327ad",
   "metadata": {},
   "source": [
    "2 multiple inheritance \n",
    "in multiple inheritance child class inherit property and method more then one parent class \n"
   ]
  },
  {
   "cell_type": "code",
   "execution_count": 13,
   "id": "0299f63e-a992-436a-9113-33a28230f636",
   "metadata": {},
   "outputs": [
    {
     "name": "stdout",
     "output_type": "stream",
     "text": [
      "hello this is a vishal baraiya\n",
      "hello this is a methid 2\n",
      "hello this is a method3:\n"
     ]
    }
   ],
   "source": [
    "class A:\n",
    "    def method1(self):\n",
    "        print(\"hello this is a vishal baraiya\")\n",
    "class B:\n",
    "    def method2(self):\n",
    "        print(\"hello this is a methid 2\")\n",
    "class c(A,B):\n",
    "    def method3(self):\n",
    "        print(\"hello this is a method3:\")\n",
    "obj= c()\n",
    "obj.method1()\n",
    "obj.method2()\n",
    "obj.method3()"
   ]
  },
  {
   "cell_type": "markdown",
   "id": "1f9cbb3f-aacd-41e5-8c10-3dd2a1513cee",
   "metadata": {},
   "source": [
    "3 maltilable or hierachical inheritance \n",
    "in this inheritance child class inherit property and method of the pasrant class .. and other grandchild class inherit child class propert and method ... this type of inheritance called multilabel or hierachical inheritance "
   ]
  },
  {
   "cell_type": "code",
   "execution_count": 14,
   "id": "6bc5bbba-5226-42da-8713-b5319b581dba",
   "metadata": {},
   "outputs": [
    {
     "name": "stdout",
     "output_type": "stream",
     "text": [
      "A\n",
      "B\n",
      "c\n"
     ]
    }
   ],
   "source": [
    "class A :\n",
    "    def method1(self):\n",
    "        print(\"A\")\n",
    "class B(A):\n",
    "    def method2(self):\n",
    "        print(\"B\")\n",
    "class C(B):\n",
    "    def method3(self):\n",
    "        print(\"c\")\n",
    "obj = C()\n",
    "obj.method1()\n",
    "obj.method2()\n",
    "obj.method3()"
   ]
  }
 ],
 "metadata": {
  "kernelspec": {
   "display_name": "Python 3 (ipykernel)",
   "language": "python",
   "name": "python3"
  },
  "language_info": {
   "codemirror_mode": {
    "name": "ipython",
    "version": 3
   },
   "file_extension": ".py",
   "mimetype": "text/x-python",
   "name": "python",
   "nbconvert_exporter": "python",
   "pygments_lexer": "ipython3",
   "version": "3.10.8"
  }
 },
 "nbformat": 4,
 "nbformat_minor": 5
}
