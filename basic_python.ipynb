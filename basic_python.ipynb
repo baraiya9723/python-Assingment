{
 "cells": [
  {
   "cell_type": "markdown",
   "id": "600a5180-cc4c-44a4-a6b7-8b0c200e728d",
   "metadata": {},
   "source": [
    "python basic assingment "
   ]
  },
  {
   "cell_type": "markdown",
   "id": "5b7b9e69-59c4-40ca-9c69-e720a0b68e48",
   "metadata": {},
   "source": [
    "Q1. Create one variable containing following type of data:"
   ]
  },
  {
   "cell_type": "code",
   "execution_count": 2,
   "id": "9007e775-2d1c-4e3b-a20f-b981b1a8684a",
   "metadata": {},
   "outputs": [
    {
     "name": "stdout",
     "output_type": "stream",
     "text": [
      "<class 'str'>\n"
     ]
    }
   ],
   "source": [
    "# for string \n",
    "name = \"vishal baraiya\"\n",
    "print(type(name))"
   ]
  },
  {
   "cell_type": "code",
   "execution_count": 4,
   "id": "bc7fd83a-cf8b-4189-828b-333c496c5312",
   "metadata": {},
   "outputs": [
    {
     "name": "stdout",
     "output_type": "stream",
     "text": [
      "<class 'list'>\n"
     ]
    }
   ],
   "source": [
    "# list \n",
    "li = [1,2,3,4,\"vi\",\"baraiya\"]\n",
    "print(type(li))"
   ]
  },
  {
   "cell_type": "code",
   "execution_count": 6,
   "id": "26078350-0b1e-4e7d-930e-5578cdb2ea10",
   "metadata": {},
   "outputs": [
    {
     "name": "stdout",
     "output_type": "stream",
     "text": [
      "<class 'float'>\n"
     ]
    }
   ],
   "source": [
    "# float\n",
    "numfloat = 12.12\n",
    "print(type(numfloat))\n"
   ]
  },
  {
   "cell_type": "code",
   "execution_count": 8,
   "id": "c9710b10-0262-4af8-95e5-af52efe1de9a",
   "metadata": {},
   "outputs": [
    {
     "name": "stdout",
     "output_type": "stream",
     "text": [
      "<class 'tuple'>\n"
     ]
    }
   ],
   "source": [
    "# tuple \n",
    "tuple1 = (1,2,3,4)\n",
    "print(type(tuple1))"
   ]
  },
  {
   "cell_type": "markdown",
   "id": "4902f0f3-a707-43c2-8c35-b7b0ffdcd178",
   "metadata": {},
   "source": [
    "Q2. Given are some following variables containing data:\n"
   ]
  },
  {
   "cell_type": "raw",
   "id": "57ca9b5e-ae4d-4985-8280-a00e33f4dd86",
   "metadata": {},
   "source": [
    "(i) var1 = ‘ ‘\n",
    "(ii) var2 = ‘[ DS , ML , Python]’\n",
    "(iii) var3 = [ ‘DS’ , ’ML’ , ‘Python’ ]\n",
    "(iv) var4 = 1."
   ]
  },
  {
   "cell_type": "markdown",
   "id": "228e2b4b-dce7-4484-b3d5-36ecf9522ac4",
   "metadata": {},
   "source": [
    "what will be the datatype of the given variable "
   ]
  },
  {
   "cell_type": "markdown",
   "id": "fae7b4dd-79a2-4a3b-911d-7f71264cc384",
   "metadata": {},
   "source": [
    "(i) string \n",
    "(ii) stirng \n",
    "(iii) list \n",
    "(iv) Integer number "
   ]
  },
  {
   "cell_type": "code",
   "execution_count": 13,
   "id": "b341eac6-b4c0-4434-8d48-0ff7c0ea972f",
   "metadata": {},
   "outputs": [
    {
     "name": "stdout",
     "output_type": "stream",
     "text": [
      "<class 'str'>\n"
     ]
    }
   ],
   "source": [
    "var1 = ''\n",
    "print(type(var1))"
   ]
  },
  {
   "cell_type": "code",
   "execution_count": 18,
   "id": "3311588d-162c-4d5a-bfa4-fe2dd5c4ce6f",
   "metadata": {},
   "outputs": [
    {
     "name": "stdout",
     "output_type": "stream",
     "text": [
      "<class 'str'>\n"
     ]
    }
   ],
   "source": [
    "var2 = '[ DS , ML , Python]'\n",
    "print(type(var2))"
   ]
  },
  {
   "cell_type": "code",
   "execution_count": 19,
   "id": "9933b90f-5a2f-40ee-b842-6cce475bb976",
   "metadata": {},
   "outputs": [
    {
     "name": "stdout",
     "output_type": "stream",
     "text": [
      "<class 'list'>\n"
     ]
    }
   ],
   "source": [
    "var3 = [ 'bh' , 'ml' , 'bh' ]\n",
    "print(type(var3))"
   ]
  },
  {
   "cell_type": "code",
   "execution_count": 21,
   "id": "0be4995e-d435-4516-8ecc-15269d30d119",
   "metadata": {},
   "outputs": [
    {
     "name": "stdout",
     "output_type": "stream",
     "text": [
      "<class 'int'>\n"
     ]
    }
   ],
   "source": [
    "var4 = 1\n",
    "print(type(var4))"
   ]
  },
  {
   "cell_type": "markdown",
   "id": "2d78392f-69de-431b-bf7f-98f6c816d8ef",
   "metadata": {},
   "source": [
    "Q3. Explain the use of the following operators using an example:\n"
   ]
  },
  {
   "cell_type": "markdown",
   "id": "d22604f8-7563-4f4f-aafb-968ad7b70a83",
   "metadata": {},
   "source": [
    "1./"
   ]
  },
  {
   "cell_type": "code",
   "execution_count": 24,
   "id": "16285482-4f83-43cf-80a9-455c007fc877",
   "metadata": {},
   "outputs": [
    {
     "name": "stdout",
     "output_type": "stream",
     "text": [
      "5.0\n"
     ]
    }
   ],
   "source": [
    "num1 = 10 \n",
    "num2 = 2\n",
    "num3 = num1/num2\n",
    "print(num3)\n",
    "# used for duvied num1 by num2 using this operator  operation "
   ]
  },
  {
   "cell_type": "markdown",
   "id": "eb06830e-1708-45cc-9306-f179c14fa37d",
   "metadata": {},
   "source": [
    "2. %\n"
   ]
  },
  {
   "cell_type": "code",
   "execution_count": 28,
   "id": "0650f7ae-1659-46ef-bec3-4659c49c932b",
   "metadata": {},
   "outputs": [
    {
     "name": "stdout",
     "output_type": "stream",
     "text": [
      "this is a even number \n"
     ]
    }
   ],
   "source": [
    "if num1 %2 == 0:\n",
    "    print(\"this is a even number \")\n",
    "else:\n",
    "    print(\"this is not even number\")"
   ]
  },
  {
   "cell_type": "markdown",
   "id": "04bed15a-5b4e-4538-acad-de81ebb59038",
   "metadata": {},
   "source": [
    "3. // "
   ]
  },
  {
   "cell_type": "code",
   "execution_count": 31,
   "id": "5b3bab35-d96b-4ab7-98b4-369481eaf81a",
   "metadata": {},
   "outputs": [
    {
     "name": "stdout",
     "output_type": "stream",
     "text": [
      "1.5\n",
      "1\n"
     ]
    }
   ],
   "source": [
    "# its give just integer part after perfotming division operation \n",
    "print(3/2)\n",
    "print(3//2)"
   ]
  },
  {
   "cell_type": "markdown",
   "id": "d460d571-684d-43b7-9955-8b9ea37b8e4c",
   "metadata": {},
   "source": [
    "Q4. Create a list of length 10 of your choice containing multiple types of data. Using for loop print the\n",
    "element and its data type."
   ]
  },
  {
   "cell_type": "code",
   "execution_count": 34,
   "id": "728ee1d9-7a77-4eed-83ad-b046f32e4c1e",
   "metadata": {},
   "outputs": [
    {
     "name": "stdout",
     "output_type": "stream",
     "text": [
      "<class 'list'>\n",
      "vishal\n",
      "baraiya\n",
      "[12, 12, 1, 2]\n",
      "1\n",
      "2\n",
      "3\n",
      "34\n"
     ]
    }
   ],
   "source": [
    "list2 = [\"vishal\",\"baraiya\",[12,12,1,2],1,2,3,34]\n",
    "print(type(list2))\n",
    "for i in list2:\n",
    "    print(i)"
   ]
  },
  {
   "cell_type": "markdown",
   "id": "ca62f09a-66e8-40ae-923f-6c5f4ed583db",
   "metadata": {},
   "source": [
    "Q5. Using a while loop, verify if the number A is purely divisible by number B and if so then how many\n",
    "times it can be divisible."
   ]
  },
  {
   "cell_type": "code",
   "execution_count": 38,
   "id": "0e77306b",
   "metadata": {},
   "outputs": [
    {
     "name": "stdin",
     "output_type": "stream",
     "text": [
      "enter first number 10\n",
      "enter secound number 2\n"
     ]
    },
    {
     "name": "stdout",
     "output_type": "stream",
     "text": [
      "1\n"
     ]
    }
   ],
   "source": [
    "number = int(input(\"enter first number\"))\n",
    "number1 = int(input(\"enter secound number\"))\n",
    "count =0\n",
    "while(number>0):\n",
    "    if number % number1 == 0:\n",
    "        count+=1\n",
    "    number = number/number1\n",
    "\n",
    "print(count)    "
   ]
  },
  {
   "cell_type": "markdown",
   "id": "2bd0308c-319b-469f-8dd1-588e727814a5",
   "metadata": {},
   "source": [
    "Q6. Create a list containing 25 int type data. Using for loop and if-else condition print if the element is\n",
    "divisible by 3 or not."
   ]
  },
  {
   "cell_type": "code",
   "execution_count": 44,
   "id": "d346fd71-9e58-4240-9be8-0f0afd33aafc",
   "metadata": {},
   "outputs": [
    {
     "name": "stdout",
     "output_type": "stream",
     "text": [
      "divisible by 3 list  [0, 3, 6, 9, 12, 15, 18, 21, 24]\n",
      "not divisible by 3 list  [1, 2, 4, 5, 7, 8, 10, 11, 13, 14, 16, 17, 19, 20, 22, 23]\n"
     ]
    }
   ],
   "source": [
    "list1 = []\n",
    "for i in range(25):\n",
    "    list1.append(i)\n",
    "divisiblelist = []\n",
    "divisiblenotlist = []\n",
    "for i in list1:\n",
    "    if i %3 ==0 :\n",
    "        divisiblelist.append(i)\n",
    "    else:\n",
    "        divisiblenotlist.append(i)\n",
    "        \n",
    "print(\"divisible by 3 list \" , divisiblelist)        \n",
    "print(\"not divisible by 3 list \", divisiblenotlist)         "
   ]
  },
  {
   "cell_type": "markdown",
   "id": "aee6cb26-28dd-44ab-8e02-2b0f608c8665",
   "metadata": {},
   "source": [
    "Q7. What do you understand about mutable and immutable data types? Give examples for both showing\n",
    "this property."
   ]
  },
  {
   "cell_type": "markdown",
   "id": "0cb9353e-e7f2-4726-93d6-1c3c1060a449",
   "metadata": {},
   "source": [
    "mutable mence we are able to modify value of that data ,immutable mence we can not modify the value of the data"
   ]
  },
  {
   "cell_type": "markdown",
   "id": "278a74bf-9bbd-4c02-ac80-fceb78692d7d",
   "metadata": {},
   "source": [
    "list is mutable data type example , and string and tuple are immutable data type exaple "
   ]
  },
  {
   "cell_type": "code",
   "execution_count": 46,
   "id": "ef56208c-04f6-4b8c-aba6-d8b6f11b0aa5",
   "metadata": {},
   "outputs": [
    {
     "name": "stdout",
     "output_type": "stream",
     "text": [
      "1\n",
      "2\n"
     ]
    }
   ],
   "source": [
    "list1 = [1,2,3,4]\n",
    "print(list1[0])\n",
    "list1[0]=2\n",
    "print(list1[0])"
   ]
  },
  {
   "cell_type": "code",
   "execution_count": 48,
   "id": "ca18e6c3-4f9f-41dc-bd00-e4723be516b3",
   "metadata": {},
   "outputs": [
    {
     "name": "stdout",
     "output_type": "stream",
     "text": [
      "v\n"
     ]
    },
    {
     "ename": "TypeError",
     "evalue": "'str' object does not support item assignment",
     "output_type": "error",
     "traceback": [
      "\u001b[0;31m---------------------------------------------------------------------------\u001b[0m",
      "\u001b[0;31mTypeError\u001b[0m                                 Traceback (most recent call last)",
      "Cell \u001b[0;32mIn[48], line 3\u001b[0m\n\u001b[1;32m      1\u001b[0m string1 \u001b[38;5;241m=\u001b[39m \u001b[38;5;124m\"\u001b[39m\u001b[38;5;124mvishalbaraiya\u001b[39m\u001b[38;5;124m\"\u001b[39m\n\u001b[1;32m      2\u001b[0m \u001b[38;5;28mprint\u001b[39m(string1[\u001b[38;5;241m0\u001b[39m])\n\u001b[0;32m----> 3\u001b[0m \u001b[43mstring1\u001b[49m\u001b[43m[\u001b[49m\u001b[38;5;241;43m0\u001b[39;49m\u001b[43m]\u001b[49m\u001b[38;5;241m=\u001b[39m\u001b[38;5;124m'\u001b[39m\u001b[38;5;124mn\u001b[39m\u001b[38;5;124m'\u001b[39m\n",
      "\u001b[0;31mTypeError\u001b[0m: 'str' object does not support item assignment"
     ]
    }
   ],
   "source": [
    "string1 = \"vishalbaraiya\"\n",
    "print(string1[0])\n",
    "string1[0]='n'"
   ]
  },
  {
   "cell_type": "code",
   "execution_count": 50,
   "id": "f4494cef-5268-42a8-a010-947f94a238a9",
   "metadata": {},
   "outputs": [
    {
     "name": "stdout",
     "output_type": "stream",
     "text": [
      "vishalbaraiya\n",
      "vishal\n"
     ]
    }
   ],
   "source": [
    "string1 = \"vishalbaraiya\"\n",
    "print(string1)\n",
    "string1 = \"vishal\"\n",
    "print(string1) \n",
    "# but use are able to value of that string variable "
   ]
  },
  {
   "cell_type": "code",
   "execution_count": null,
   "id": "e4b79295-5821-4389-af8f-debc848bc02d",
   "metadata": {},
   "outputs": [],
   "source": []
  }
 ],
 "metadata": {
  "kernelspec": {
   "display_name": "Python 3 (ipykernel)",
   "language": "python",
   "name": "python3"
  },
  "language_info": {
   "codemirror_mode": {
    "name": "ipython",
    "version": 3
   },
   "file_extension": ".py",
   "mimetype": "text/x-python",
   "name": "python",
   "nbconvert_exporter": "python",
   "pygments_lexer": "ipython3",
   "version": "3.10.8"
  }
 },
 "nbformat": 4,
 "nbformat_minor": 5
}
